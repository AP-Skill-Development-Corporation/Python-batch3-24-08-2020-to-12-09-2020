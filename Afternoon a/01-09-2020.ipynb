{
 "cells": [
  {
   "cell_type": "code",
   "execution_count": 4,
   "metadata": {},
   "outputs": [
    {
     "name": "stdout",
     "output_type": "stream",
     "text": [
      "A P S S D C\n",
      "Apssdc\n"
     ]
    }
   ],
   "source": [
    "#i/p:\"A P S S D C\"\n",
    "#O/P:Apssdc\n",
    "s=input()\n",
    "a=s.split()\n",
    "#print(a)\n",
    "print(\"\".join(a).capitalize())\n",
    "\n"
   ]
  },
  {
   "cell_type": "code",
   "execution_count": 9,
   "metadata": {},
   "outputs": [
    {
     "name": "stdout",
     "output_type": "stream",
     "text": [
      "python\n",
      "p t h n "
     ]
    }
   ],
   "source": [
    "#python\n",
    "#o/p:p t h n\n",
    "s=input()\n",
    "s1=\" \".join(s)\n",
    "for i in s1.split():\n",
    "    if ord(i)%2==0:\n",
    "        print(i,end=\" \")\n",
    "    else:\n",
    "        pass"
   ]
  },
  {
   "cell_type": "code",
   "execution_count": 19,
   "metadata": {},
   "outputs": [
    {
     "data": {
      "text/plain": [
       "97"
      ]
     },
     "execution_count": 19,
     "metadata": {},
     "output_type": "execute_result"
    }
   ],
   "source": [
    "ord('a')"
   ]
  },
  {
   "cell_type": "code",
   "execution_count": 15,
   "metadata": {},
   "outputs": [
    {
     "name": "stdout",
     "output_type": "stream",
     "text": [
      "abcd1234@#\n",
      "no.of char: 4\n",
      "no of digits: 4\n",
      "no of special char: 2\n"
     ]
    }
   ],
   "source": [
    "#i/p:s=\"abcd123@\"\n",
    "def count(string):\n",
    "    a=n=s=0   #count\n",
    "    for i in string:\n",
    "        if(i.isdigit()):\n",
    "            n=n+1\n",
    "        elif(i.isalpha()):\n",
    "            a=a+1\n",
    "        else:\n",
    "            s=s+1\n",
    "    print(\"no.of char:\",a)\n",
    "    print(\"no of digits:\",n)\n",
    "    print(\"no of special char:\",s)\n",
    "    return\n",
    "string=input()\n",
    "count(string)"
   ]
  },
  {
   "cell_type": "code",
   "execution_count": 23,
   "metadata": {},
   "outputs": [
    {
     "name": "stdout",
     "output_type": "stream",
     "text": [
      "{120: '100', 121: '65', 99: '7', 122: '97'}\n"
     ]
    }
   ],
   "source": [
    "dict={\"x\":\"100\",\"y\":\"65\",\"c\":\"7\",\"z\":\"97\"}\n",
    "new=\"xyzc\"\n",
    "print(new.maketrans(dict))\n"
   ]
  },
  {
   "cell_type": "code",
   "execution_count": 21,
   "metadata": {},
   "outputs": [
    {
     "data": {
      "text/plain": [
       "120"
      ]
     },
     "execution_count": 21,
     "metadata": {},
     "output_type": "execute_result"
    }
   ],
   "source": [
    "ord(\"x\")"
   ]
  },
  {
   "cell_type": "code",
   "execution_count": 26,
   "metadata": {},
   "outputs": [
    {
     "data": {
      "text/plain": [
       "b'python'"
      ]
     },
     "execution_count": 26,
     "metadata": {},
     "output_type": "execute_result"
    }
   ],
   "source": [
    "#encode\n",
    "x=\"python\"\n",
    "x.encode()"
   ]
  },
  {
   "cell_type": "code",
   "execution_count": 27,
   "metadata": {},
   "outputs": [
    {
     "data": {
      "text/plain": [
       "'Dog'"
      ]
     },
     "execution_count": 27,
     "metadata": {},
     "output_type": "execute_result"
    }
   ],
   "source": [
    "#translate\n",
    "d={67:68,97:111,116:103}\n",
    "string=\"Cat\"\n",
    "string.translate(d)"
   ]
  },
  {
   "cell_type": "code",
   "execution_count": 28,
   "metadata": {},
   "outputs": [
    {
     "data": {
      "text/plain": [
       "67"
      ]
     },
     "execution_count": 28,
     "metadata": {},
     "output_type": "execute_result"
    }
   ],
   "source": [
    "ord('C')"
   ]
  },
  {
   "cell_type": "markdown",
   "metadata": {},
   "source": [
    "## Data Structures\n",
    "- Way of Organizing and storing data\n",
    "- Accessed&work efficiently\n",
    "- 4 types\n",
    "    - list\n",
    "    - Tuple\n",
    "    - dictionary\n",
    "    - Sets\n"
   ]
  },
  {
   "cell_type": "markdown",
   "metadata": {},
   "source": [
    "### lists\n",
    "- collect of hetrogeneous data\n",
    "- ordered,changable(mutable)\n",
    "- allows duplicate data\n",
    "- represented by Square brackets[]\n"
   ]
  },
  {
   "cell_type": "code",
   "execution_count": 31,
   "metadata": {},
   "outputs": [
    {
     "name": "stdout",
     "output_type": "stream",
     "text": [
      "[]\n",
      "<class 'list'>\n"
     ]
    }
   ],
   "source": [
    "li=[]\n",
    "print(li) \n",
    "print(type(li))"
   ]
  },
  {
   "cell_type": "code",
   "execution_count": 32,
   "metadata": {},
   "outputs": [
    {
     "name": "stdout",
     "output_type": "stream",
     "text": [
      "[12, 34, 10, 45, 32]\n"
     ]
    }
   ],
   "source": [
    "li=[12,34,10,45,32]\n",
    "print(li)"
   ]
  },
  {
   "cell_type": "code",
   "execution_count": 33,
   "metadata": {},
   "outputs": [
    {
     "name": "stdout",
     "output_type": "stream",
     "text": [
      "[12, 34, 56, 7, 12, 34, 12, 7]\n"
     ]
    }
   ],
   "source": [
    "#duplicate elements\n",
    "li=[12,34,56,7,12,34,12,7]\n",
    "print(li)"
   ]
  },
  {
   "cell_type": "code",
   "execution_count": 34,
   "metadata": {},
   "outputs": [
    {
     "name": "stdout",
     "output_type": "stream",
     "text": [
      "[12, 'python', 12.4, 23]\n"
     ]
    }
   ],
   "source": [
    "#multiple data\n",
    "li=[12,'python',12.4,23]\n",
    "print(li)"
   ]
  },
  {
   "cell_type": "code",
   "execution_count": 37,
   "metadata": {},
   "outputs": [
    {
     "name": "stdout",
     "output_type": "stream",
     "text": [
      "12\n",
      "23\n",
      "23\n"
     ]
    }
   ],
   "source": [
    "#indexing(pos,neg)\n",
    "l=[12,34,56,23,45]\n",
    "print(l[0])\n",
    "print(l[3])\n",
    "print(l[-2])"
   ]
  },
  {
   "cell_type": "code",
   "execution_count": 41,
   "metadata": {},
   "outputs": [
    {
     "name": "stdout",
     "output_type": "stream",
     "text": [
      "[34, 56, 78]\n",
      "[12, 56, 23]\n",
      "[78, 23, 52]\n",
      "[52, 23, 78, 56, 34, 12]\n"
     ]
    }
   ],
   "source": [
    "#Slicing(s,e,step)\n",
    "li=[12,34,56,78,23,52]\n",
    "print(li[1:4])\n",
    "print(li[::2])\n",
    "print(li[3:])\n",
    "print(li[::-1])"
   ]
  },
  {
   "cell_type": "code",
   "execution_count": 42,
   "metadata": {},
   "outputs": [
    {
     "name": "stdout",
     "output_type": "stream",
     "text": [
      "[12, 34, 56, 78, 23, 52, 23, 46, 98, 6]\n"
     ]
    }
   ],
   "source": [
    "li=[12,34,56,78,23,52]\n",
    "li1=[23,46,98,6]\n",
    "print(li+li1)"
   ]
  },
  {
   "cell_type": "code",
   "execution_count": 79,
   "metadata": {},
   "outputs": [
    {
     "name": "stdout",
     "output_type": "stream",
     "text": [
      "[12, 34, 45, 90, 89]\n"
     ]
    },
    {
     "data": {
      "text/plain": [
       "[2, 4, 6]"
      ]
     },
     "execution_count": 79,
     "metadata": {},
     "output_type": "execute_result"
    }
   ],
   "source": [
    "#mutable\n",
    "li=[12,34,45,67,89]\n",
    "li[3]=90\n",
    "print(li)\n",
    "li=[1,2,3,4,5,6]\n",
    "li[1::2]\n"
   ]
  },
  {
   "cell_type": "code",
   "execution_count": 51,
   "metadata": {},
   "outputs": [
    {
     "name": "stdout",
     "output_type": "stream",
     "text": [
      "<class 'list'>\n",
      "5\n",
      "y\n",
      "p\n"
     ]
    },
    {
     "ename": "TypeError",
     "evalue": "unsupported operand type(s) for +: 'int' and 'str'",
     "output_type": "error",
     "traceback": [
      "\u001b[1;31m---------------------------------------------------------------------------\u001b[0m",
      "\u001b[1;31mTypeError\u001b[0m                                 Traceback (most recent call last)",
      "\u001b[1;32m<ipython-input-51-6e35659f1810>\u001b[0m in \u001b[0;36m<module>\u001b[1;34m\u001b[0m\n\u001b[0;32m      6\u001b[0m \u001b[0mprint\u001b[0m\u001b[1;33m(\u001b[0m\u001b[0mmax\u001b[0m\u001b[1;33m(\u001b[0m\u001b[0mli1\u001b[0m\u001b[1;33m)\u001b[0m\u001b[1;33m)\u001b[0m\u001b[1;33m\u001b[0m\u001b[1;33m\u001b[0m\u001b[0m\n\u001b[0;32m      7\u001b[0m \u001b[0mprint\u001b[0m\u001b[1;33m(\u001b[0m\u001b[0mmin\u001b[0m\u001b[1;33m(\u001b[0m\u001b[0mli1\u001b[0m\u001b[1;33m)\u001b[0m\u001b[1;33m)\u001b[0m\u001b[1;33m\u001b[0m\u001b[1;33m\u001b[0m\u001b[0m\n\u001b[1;32m----> 8\u001b[1;33m \u001b[0mprint\u001b[0m\u001b[1;33m(\u001b[0m\u001b[0msum\u001b[0m\u001b[1;33m(\u001b[0m\u001b[0mli1\u001b[0m\u001b[1;33m)\u001b[0m\u001b[1;33m)\u001b[0m\u001b[1;33m\u001b[0m\u001b[1;33m\u001b[0m\u001b[0m\n\u001b[0m",
      "\u001b[1;31mTypeError\u001b[0m: unsupported operand type(s) for +: 'int' and 'str'"
     ]
    }
   ],
   "source": [
    "#buildin functions:sum,min,max,len,sort\n",
    "li=[12,23,45,56,67]\n",
    "li1=['p','t','y','t','w']\n",
    "print(type(li1))\n",
    "print(len(li1))\n",
    "print(max(li1))\n",
    "print(min(li1))\n",
    "print(sum(li1))"
   ]
  },
  {
   "cell_type": "code",
   "execution_count": 66,
   "metadata": {},
   "outputs": [
    {
     "name": "stdout",
     "output_type": "stream",
     "text": [
      "True\n",
      "False\n",
      "True\n",
      "True\n",
      "[]\n",
      "[(0, 'nandini'), (1, 'meena'), (2, 'kavitha')]\n",
      "[]\n",
      "[(12, 'nandini'), (34, 'meena'), (54, 'kavitha')]\n"
     ]
    }
   ],
   "source": [
    "#all,any,enumerate,zip\n",
    "names=['nandini','meena','kavitha']\n",
    "rollnum=[12,34,54,65]\n",
    "li=[]\n",
    "print(all(li))  #list\n",
    "print(any(li))  #list element\n",
    "print(all(names))  \n",
    "print(any(names))\n",
    "print(list(enumerate(li)))  #index\n",
    "print(list(enumerate(names)))\n",
    "print(list(zip(li,names)))\n",
    "print(list(zip(rollnum,names)))\n"
   ]
  },
  {
   "cell_type": "code",
   "execution_count": 71,
   "metadata": {},
   "outputs": [
    {
     "name": "stdout",
     "output_type": "stream",
     "text": [
      "[12, 3, 45, 35, [13, 37, 85, 23], 89]\n",
      "[13, 37, 85, 23]\n",
      "45\n",
      "37\n",
      "23\n"
     ]
    }
   ],
   "source": [
    "li=[12,3,45,35,[13,37,85,23],89]\n",
    "print(li)\n",
    "print(li[4])\n",
    "print(li[2])\n",
    "print(li[4][1])\n",
    "print(li[4][3])\n"
   ]
  },
  {
   "cell_type": "code",
   "execution_count": 72,
   "metadata": {},
   "outputs": [
    {
     "name": "stdout",
     "output_type": "stream",
     "text": [
      "['__add__', '__class__', '__contains__', '__delattr__', '__delitem__', '__dir__', '__doc__', '__eq__', '__format__', '__ge__', '__getattribute__', '__getitem__', '__gt__', '__hash__', '__iadd__', '__imul__', '__init__', '__init_subclass__', '__iter__', '__le__', '__len__', '__lt__', '__mul__', '__ne__', '__new__', '__reduce__', '__reduce_ex__', '__repr__', '__reversed__', '__rmul__', '__setattr__', '__setitem__', '__sizeof__', '__str__', '__subclasshook__', 'append', 'clear', 'copy', 'count', 'extend', 'index', 'insert', 'pop', 'remove', 'reverse', 'sort'] "
     ]
    }
   ],
   "source": [
    "print(dir(list),end=\" \")"
   ]
  },
  {
   "cell_type": "code",
   "execution_count": 77,
   "metadata": {},
   "outputs": [
    {
     "data": {
      "text/plain": [
       "[23, 45, 67, 89, 25, 16]"
      ]
     },
     "execution_count": 77,
     "metadata": {},
     "output_type": "execute_result"
    }
   ],
   "source": [
    "li=[23,45,67,89,25]\n",
    "li.append(16)    #end of list will added\n",
    "li"
   ]
  },
  {
   "cell_type": "code",
   "execution_count": 82,
   "metadata": {},
   "outputs": [
    {
     "name": "stdout",
     "output_type": "stream",
     "text": [
      "[12, 34, 40, 67, 89, 37]\n"
     ]
    }
   ],
   "source": [
    "li=[12,34,67,89,37]\n",
    "li.insert(2,40)    #index position,value\n",
    "print(li)\n"
   ]
  },
  {
   "cell_type": "code",
   "execution_count": 90,
   "metadata": {},
   "outputs": [
    {
     "name": "stdout",
     "output_type": "stream",
     "text": [
      "3\n",
      "4\n",
      "[37, 12, 89, 67, 12, 34, 12]\n"
     ]
    }
   ],
   "source": [
    "li=[12,34,12,67,89,12,37]\n",
    "print(li.count(12))\n",
    "print(li.index(89))\n",
    "li.reverse()\n",
    "print(li)"
   ]
  },
  {
   "cell_type": "code",
   "execution_count": 91,
   "metadata": {},
   "outputs": [
    {
     "data": {
      "text/plain": [
       "[37, 12, 89, 67, 12, 34, 12]"
      ]
     },
     "execution_count": 91,
     "metadata": {},
     "output_type": "execute_result"
    }
   ],
   "source": [
    "li"
   ]
  },
  {
   "cell_type": "code",
   "execution_count": 93,
   "metadata": {},
   "outputs": [
    {
     "name": "stdout",
     "output_type": "stream",
     "text": [
      "[12, 34, 37, 67, 89]\n",
      "[89, 67, 37, 34, 12]\n"
     ]
    }
   ],
   "source": [
    "li=[12,34,67,89,37]\n",
    "li.sort()\n",
    "print(li)\n",
    "li.sort(reverse=True)\n",
    "print(li)"
   ]
  },
  {
   "cell_type": "code",
   "execution_count": 94,
   "metadata": {},
   "outputs": [
    {
     "name": "stdout",
     "output_type": "stream",
     "text": [
      "[1, 2, 3, 4, 5, 23, 45, 67]\n",
      "[23, 45, 67]\n"
     ]
    }
   ],
   "source": [
    "li=[1,2,3,4,5]\n",
    "li1=[23,45,67]\n",
    "li.extend(li1)\n",
    "print(li)\n",
    "print(li1)"
   ]
  },
  {
   "cell_type": "code",
   "execution_count": 96,
   "metadata": {},
   "outputs": [
    {
     "data": {
      "text/plain": [
       "[23, 45, 67]"
      ]
     },
     "execution_count": 96,
     "metadata": {},
     "output_type": "execute_result"
    }
   ],
   "source": [
    "li\n",
    "li1"
   ]
  },
  {
   "cell_type": "code",
   "execution_count": 98,
   "metadata": {},
   "outputs": [
    {
     "name": "stdout",
     "output_type": "stream",
     "text": [
      "[12, 34, 67, 89]\n",
      "[12, 67, 89]\n"
     ]
    }
   ],
   "source": [
    "li=[12,34,67,89,37]\n",
    "li.pop()\n",
    "print(li)\n",
    "print(li)\n",
    "li.pop(1)    #index\n",
    "print(li)"
   ]
  },
  {
   "cell_type": "code",
   "execution_count": 100,
   "metadata": {},
   "outputs": [
    {
     "data": {
      "text/plain": [
       "[12, 67, 89, 37]"
      ]
     },
     "execution_count": 100,
     "metadata": {},
     "output_type": "execute_result"
    }
   ],
   "source": [
    "li=[12,34,67,89,37]\n",
    "li.remove(34)   #value\n",
    "li"
   ]
  },
  {
   "cell_type": "code",
   "execution_count": 109,
   "metadata": {},
   "outputs": [
    {
     "name": "stdout",
     "output_type": "stream",
     "text": [
      "[12, 3, 4, 12, 56]\n",
      "[12, 3, 4, 12, 56]\n",
      "[12, 3, 4, 12]\n",
      "[12, 3, 4, 12]\n"
     ]
    }
   ],
   "source": [
    "#Assignment\n",
    "li1=[12,3,4,12,56]\n",
    "li2=li1\n",
    "print(li1)\n",
    "print(li2)\n",
    "li1.remove(56)\n",
    "print(li1)\n",
    "print(li2)"
   ]
  },
  {
   "cell_type": "code",
   "execution_count": 108,
   "metadata": {},
   "outputs": [
    {
     "name": "stdout",
     "output_type": "stream",
     "text": [
      "[12, 3, 4, 12, 56]\n",
      "[12, 3, 4, 12, 56]\n",
      "[12, 3, 4, 12]\n",
      "[12, 3, 4, 12, 56]\n"
     ]
    }
   ],
   "source": [
    "#copy\n",
    "li1=[12,3,4,12,56]\n",
    "li2=li1.copy()\n",
    "print(li1)\n",
    "print(li2)\n",
    "li1.remove(56)\n",
    "print(li1)\n",
    "print(li2)"
   ]
  },
  {
   "cell_type": "code",
   "execution_count": 112,
   "metadata": {},
   "outputs": [
    {
     "name": "stdout",
     "output_type": "stream",
     "text": [
      "[12, 3, 4, 12, 56]\n",
      "[]\n"
     ]
    }
   ],
   "source": [
    "#clear\n",
    "li1=[12,3,4,12,56]\n",
    "print(li1)\n",
    "li1.clear()\n",
    "print(li1)"
   ]
  },
  {
   "cell_type": "code",
   "execution_count": 113,
   "metadata": {},
   "outputs": [
    {
     "name": "stdout",
     "output_type": "stream",
     "text": [
      "[12, 3, 4, 12, 56]\n"
     ]
    },
    {
     "ename": "NameError",
     "evalue": "name 'li1' is not defined",
     "output_type": "error",
     "traceback": [
      "\u001b[1;31m---------------------------------------------------------------------------\u001b[0m",
      "\u001b[1;31mNameError\u001b[0m                                 Traceback (most recent call last)",
      "\u001b[1;32m<ipython-input-113-3ecba7e25d29>\u001b[0m in \u001b[0;36m<module>\u001b[1;34m\u001b[0m\n\u001b[0;32m      3\u001b[0m \u001b[0mprint\u001b[0m\u001b[1;33m(\u001b[0m\u001b[0mli1\u001b[0m\u001b[1;33m)\u001b[0m\u001b[1;33m\u001b[0m\u001b[1;33m\u001b[0m\u001b[0m\n\u001b[0;32m      4\u001b[0m \u001b[1;32mdel\u001b[0m\u001b[1;33m(\u001b[0m\u001b[0mli1\u001b[0m\u001b[1;33m)\u001b[0m\u001b[1;33m\u001b[0m\u001b[1;33m\u001b[0m\u001b[0m\n\u001b[1;32m----> 5\u001b[1;33m \u001b[0mprint\u001b[0m\u001b[1;33m(\u001b[0m\u001b[0mli1\u001b[0m\u001b[1;33m)\u001b[0m\u001b[1;33m\u001b[0m\u001b[1;33m\u001b[0m\u001b[0m\n\u001b[0m",
      "\u001b[1;31mNameError\u001b[0m: name 'li1' is not defined"
     ]
    }
   ],
   "source": [
    "#del\n",
    "li1=[12,3,4,12,56]\n",
    "print(li1)\n",
    "del(li1)\n",
    "print(li1)"
   ]
  },
  {
   "cell_type": "code",
   "execution_count": 114,
   "metadata": {},
   "outputs": [
    {
     "name": "stdout",
     "output_type": "stream",
     "text": [
      "[1, 4, 9, 16]\n"
     ]
    }
   ],
   "source": [
    "#empty list\n",
    "li=[1,2,3,4]\n",
    "li1=[]\n",
    "for i in li:\n",
    "    li1.append(i**2)\n",
    "print(li1)"
   ]
  },
  {
   "cell_type": "code",
   "execution_count": null,
   "metadata": {},
   "outputs": [],
   "source": [
    "#Task1\n",
    "#duplicate remove\n",
    "#li=[12,3,45,12,34,12]\n",
    "#o/p:li=[12,3,45,34]\n",
    "\n",
    "#Average\n"
   ]
  }
 ],
 "metadata": {
  "kernelspec": {
   "display_name": "Python 3",
   "language": "python",
   "name": "python3"
  },
  "language_info": {
   "codemirror_mode": {
    "name": "ipython",
    "version": 3
   },
   "file_extension": ".py",
   "mimetype": "text/x-python",
   "name": "python",
   "nbconvert_exporter": "python",
   "pygments_lexer": "ipython3",
   "version": "3.8.3"
  }
 },
 "nbformat": 4,
 "nbformat_minor": 4
}
