{
 "cells": [
  {
   "cell_type": "markdown",
   "metadata": {},
   "source": [
    "### Operators\n",
    "* Arithmetic operators\n",
    "* Logical operators\n",
    "* comparison operators\n",
    "* Assignment operators\n",
    "* Bitwise Operators\n",
    "* Identity operators\n",
    "* Membership operators"
   ]
  },
  {
   "cell_type": "code",
   "execution_count": 3,
   "metadata": {},
   "outputs": [
    {
     "name": "stdout",
     "output_type": "stream",
     "text": [
      "190\n",
      "10\n"
     ]
    }
   ],
   "source": [
    "# Arithmetic operators (+,-,*,/,//,%,**)\n",
    "\n",
    "a=100   #operands\n",
    "b=90\n",
    "print(a+b)\n",
    "print(a-b)"
   ]
  },
  {
   "cell_type": "code",
   "execution_count": 7,
   "metadata": {},
   "outputs": [
    {
     "name": "stdout",
     "output_type": "stream",
     "text": [
      "9000\n"
     ]
    }
   ],
   "source": [
    "print(a*b)"
   ]
  },
  {
   "cell_type": "code",
   "execution_count": 8,
   "metadata": {},
   "outputs": [
    {
     "name": "stdout",
     "output_type": "stream",
     "text": [
      "1.1111111111111112\n",
      "1\n",
      "10\n"
     ]
    }
   ],
   "source": [
    "print(a/b) \n",
    "print(a//b) #intiger division\n",
    "print(a%b)"
   ]
  },
  {
   "cell_type": "code",
   "execution_count": 11,
   "metadata": {},
   "outputs": [
    {
     "name": "stdout",
     "output_type": "stream",
     "text": [
      "16\n"
     ]
    }
   ],
   "source": [
    "c=2\n",
    "d=4\n",
    "print(c**d)  #power"
   ]
  },
  {
   "cell_type": "markdown",
   "metadata": {},
   "source": [
    "#logical operators --> and ,or,not\n",
    "\n",
    "#and\n",
    "\n",
    "a b (a and b)\n",
    "0 0 0\n",
    "1 0 0\n",
    "0 1 0\n",
    "1 1 1\n"
   ]
  },
  {
   "cell_type": "code",
   "execution_count": 13,
   "metadata": {},
   "outputs": [
    {
     "data": {
      "text/plain": [
       "True"
      ]
     },
     "execution_count": 13,
     "metadata": {},
     "output_type": "execute_result"
    }
   ],
   "source": [
    "# Comparison operators  >,<,>=,<=,!=\n",
    "\n",
    "a=10\n",
    "b=90\n",
    "a<b"
   ]
  },
  {
   "cell_type": "markdown",
   "metadata": {},
   "source": [
    "### Bitwise operators --> &,|,<<,>>,~\n",
    "\n",
    "* & --> it returns 1 if both bits are 1 else returns 0\n",
    "*  | --> returns 1 if either of bits is 1 else 0\n"
   ]
  },
  {
   "cell_type": "code",
   "execution_count": 16,
   "metadata": {},
   "outputs": [
    {
     "data": {
      "text/plain": [
       "2"
      ]
     },
     "execution_count": 16,
     "metadata": {},
     "output_type": "execute_result"
    }
   ],
   "source": [
    "a=2   # 2 --> 0010\n",
    "b=3   # 3 --> 0011\n",
    "a&b   #       0010 "
   ]
  },
  {
   "cell_type": "code",
   "execution_count": 17,
   "metadata": {},
   "outputs": [
    {
     "data": {
      "text/plain": [
       "5"
      ]
     },
     "execution_count": 17,
     "metadata": {},
     "output_type": "execute_result"
    }
   ],
   "source": [
    "c=4   # 4 --> 0100\n",
    "d=5   # 5 --> 0101\n",
    "c|d   #   --> 0101  (5)"
   ]
  },
  {
   "cell_type": "code",
   "execution_count": 20,
   "metadata": {},
   "outputs": [
    {
     "data": {
      "text/plain": [
       "40"
      ]
     },
     "execution_count": 20,
     "metadata": {},
     "output_type": "execute_result"
    }
   ],
   "source": [
    " ## << (left shift operator)\n",
    "\n",
    "# 10   # 10 --> 1010\n",
    "\n",
    "10 << 2            #101000  --> decimal value for 40"
   ]
  },
  {
   "cell_type": "code",
   "execution_count": 22,
   "metadata": {},
   "outputs": [
    {
     "data": {
      "text/plain": [
       "2"
      ]
     },
     "execution_count": 22,
     "metadata": {},
     "output_type": "execute_result"
    }
   ],
   "source": [
    "## >> (right shift operator)\n",
    "\n",
    "# 1010 10>>2\n",
    "\n",
    "10>>2   #  0010"
   ]
  },
  {
   "cell_type": "code",
   "execution_count": 23,
   "metadata": {},
   "outputs": [
    {
     "data": {
      "text/plain": [
       "-5"
      ]
     },
     "execution_count": 23,
     "metadata": {},
     "output_type": "execute_result"
    }
   ],
   "source": [
    "# ~(tild)\n",
    "\n",
    "c=4\n",
    "~c   # (4 --> -(4+1))"
   ]
  },
  {
   "cell_type": "code",
   "execution_count": 36,
   "metadata": {},
   "outputs": [
    {
     "name": "stdout",
     "output_type": "stream",
     "text": [
      "30\n"
     ]
    }
   ],
   "source": [
    "# Assignment operators =,+=,-=,*=\n",
    "\n",
    "a=10\n",
    "a+=20   #  a+=20 or a=a+20\n",
    "print(a)"
   ]
  },
  {
   "cell_type": "code",
   "execution_count": 37,
   "metadata": {},
   "outputs": [
    {
     "name": "stdout",
     "output_type": "stream",
     "text": [
      "25\n"
     ]
    }
   ],
   "source": [
    "a-=5   # a=a-5\n",
    "print(a)"
   ]
  },
  {
   "cell_type": "code",
   "execution_count": 38,
   "metadata": {},
   "outputs": [
    {
     "data": {
      "text/plain": [
       "5.0"
      ]
     },
     "execution_count": 38,
     "metadata": {},
     "output_type": "execute_result"
    }
   ],
   "source": [
    "a/=5\n",
    "a"
   ]
  },
  {
   "cell_type": "code",
   "execution_count": 39,
   "metadata": {},
   "outputs": [
    {
     "name": "stdout",
     "output_type": "stream",
     "text": [
      "20.0\n"
     ]
    }
   ],
   "source": [
    "a*=4\n",
    "print(a)"
   ]
  },
  {
   "cell_type": "code",
   "execution_count": 40,
   "metadata": {},
   "outputs": [
    {
     "data": {
      "text/plain": [
       "True"
      ]
     },
     "execution_count": 40,
     "metadata": {},
     "output_type": "execute_result"
    }
   ],
   "source": [
    "# Identity operator --> tests 2 operands shares an identity \n",
    "\n",
    "# is , is not\n",
    "\n",
    "x=12\n",
    "\n",
    "x is 12"
   ]
  },
  {
   "cell_type": "code",
   "execution_count": 41,
   "metadata": {},
   "outputs": [
    {
     "data": {
      "text/plain": [
       "False"
      ]
     },
     "execution_count": 41,
     "metadata": {},
     "output_type": "execute_result"
    }
   ],
   "source": [
    "x is not 12"
   ]
  },
  {
   "cell_type": "code",
   "execution_count": 44,
   "metadata": {},
   "outputs": [
    {
     "name": "stdout",
     "output_type": "stream",
     "text": [
      "True\n",
      "False\n"
     ]
    }
   ],
   "source": [
    "# Membership operator -->  Tests whether a value is\n",
    "#a member of a sequence or not\n",
    "\n",
    "# in , not in\n",
    "\n",
    "name=\"sreeram\"\n",
    "\n",
    "print('r' in name)\n",
    "print('l' in name)"
   ]
  },
  {
   "cell_type": "markdown",
   "metadata": {},
   "source": [
    "### Conditional statements\n",
    "\n",
    "* To make decisions\n",
    "* helps to decide what the program should do next\n",
    "* flow of execution\n",
    "* if statement\n",
    "* if else statement\n",
    "* elif statement\n",
    "* nested if statement"
   ]
  },
  {
   "cell_type": "code",
   "execution_count": null,
   "metadata": {},
   "outputs": [],
   "source": [
    "# if \n",
    "if test_expression:\n",
    "    statement\n",
    "    "
   ]
  },
  {
   "cell_type": "code",
   "execution_count": 50,
   "metadata": {},
   "outputs": [
    {
     "name": "stdout",
     "output_type": "stream",
     "text": [
      "enter a number89\n",
      "given number is positive\n"
     ]
    }
   ],
   "source": [
    "# write a program to check whether given number is positive or not\n",
    "\n",
    "n=int(input(\"enter a number\"))\n",
    "if n>0:\n",
    "    print(\"given number is positive: \")"
   ]
  },
  {
   "cell_type": "code",
   "execution_count": null,
   "metadata": {},
   "outputs": [],
   "source": [
    "# if -else\n",
    "\n",
    "if condition:\n",
    "    statement\n",
    "else:\n",
    "    statement"
   ]
  },
  {
   "cell_type": "code",
   "execution_count": 52,
   "metadata": {},
   "outputs": [],
   "source": [
    "#write a program to print biggest of two numbers\n",
    "\n",
    "# write a program to check given number is even or odd\n",
    "\n",
    "#write a program to check whether the candidate is eligible to vote or not\n"
   ]
  },
  {
   "cell_type": "code",
   "execution_count": 60,
   "metadata": {},
   "outputs": [
    {
     "name": "stdout",
     "output_type": "stream",
     "text": [
      "enter 1st number: 89.8\n",
      "enter 2nd number: 67.5\n",
      "89.8  is big\n"
     ]
    }
   ],
   "source": [
    "#write a program to print biggest of two numbers\n",
    "\n",
    "a=float(input(\"enter 1st number: \"))\n",
    "b=float(input(\"enter 2nd number: \"))\n",
    "if a>b:\n",
    "    print(a, \" is big\")\n",
    "else:\n",
    "    print(b ,\" is big\")"
   ]
  },
  {
   "cell_type": "code",
   "execution_count": 58,
   "metadata": {},
   "outputs": [
    {
     "name": "stdout",
     "output_type": "stream",
     "text": [
      "enter a number56\n",
      "even\n"
     ]
    }
   ],
   "source": [
    "# write a program to check given number is even or odd\n",
    "\n",
    "n=int(input(\"enter a number\"))\n",
    "if n%2==0:\n",
    "    print(\"even\")\n",
    "else:\n",
    "    print(\"odd\")"
   ]
  },
  {
   "cell_type": "code",
   "execution_count": 68,
   "metadata": {},
   "outputs": [
    {
     "name": "stdout",
     "output_type": "stream",
     "text": [
      "enter a number: 34\n",
      "eligible\n"
     ]
    }
   ],
   "source": [
    "#write a program to check whether the candidate is eligible to vote or not\n",
    "\n",
    "n=int(input(\"enter a number: \"))\n",
    "if (n==18) or (n>18):\n",
    "      print(\"eligible\")\n",
    "else:\n",
    "      print(\"not eligible\")\n"
   ]
  },
  {
   "cell_type": "code",
   "execution_count": null,
   "metadata": {},
   "outputs": [],
   "source": [
    "#elif\n",
    "\n",
    "if condition:\n",
    "    statements\n",
    "elif condition:\n",
    "    statements\n",
    "else:\n",
    "    statements"
   ]
  },
  {
   "cell_type": "code",
   "execution_count": 76,
   "metadata": {},
   "outputs": [
    {
     "name": "stdout",
     "output_type": "stream",
     "text": [
      "enter number1: 23\n",
      "enter number2: 34\n",
      "enter number3: 21\n",
      "34 is big\n"
     ]
    }
   ],
   "source": [
    "#write a program to find largest of 3 numbers\n",
    "\n",
    "a=int(input(\"enter number1: \"))\n",
    "b=int(input(\"enter number2: \"))\n",
    "c=int(input(\"enter number3: \"))\n",
    "\n",
    "if a>b and a>c:\n",
    "    print(a , \"is big\")\n",
    "elif b>c:\n",
    "    print(b, \"is big\")\n",
    "else:\n",
    "    print(c , \"is big\")\n"
   ]
  },
  {
   "cell_type": "code",
   "execution_count": 69,
   "metadata": {},
   "outputs": [],
   "source": [
    "# nested if  ( if inside another if)\n",
    "\n",
    "if condition:\n",
    "    if condition:\n",
    "        stmts\n",
    "    else:\n",
    "        stmts\n",
    "else:\n",
    "    stmts\n",
    "       "
   ]
  },
  {
   "cell_type": "code",
   "execution_count": 77,
   "metadata": {},
   "outputs": [
    {
     "name": "stdout",
     "output_type": "stream",
     "text": [
      "enter number: 56\n",
      "number is positive\n"
     ]
    }
   ],
   "source": [
    "#Write a program to check whether the given number is positive opr negative or zero\n",
    "\n",
    "n=float(input(\"enter number: \"))\n",
    "\n",
    "if n>=0:\n",
    "    if n==0:\n",
    "        print(\"number is zero\")\n",
    "    else:\n",
    "        print(\"number is positive\")\n",
    "else:\n",
    "    print(\"number is negative\")"
   ]
  },
  {
   "cell_type": "code",
   "execution_count": null,
   "metadata": {},
   "outputs": [],
   "source": [
    "#write a program to check whether given year is leap year or not"
   ]
  },
  {
   "cell_type": "code",
   "execution_count": 74,
   "metadata": {},
   "outputs": [
    {
     "name": "stdout",
     "output_type": "stream",
     "text": [
      "a is greater than b\n"
     ]
    }
   ],
   "source": [
    "#short hand if\n",
    "\n",
    "a=90\n",
    "b=10\n",
    "if a>b:print(\"a is greater than b\")    "
   ]
  },
  {
   "cell_type": "code",
   "execution_count": 75,
   "metadata": {},
   "outputs": [
    {
     "name": "stdout",
     "output_type": "stream",
     "text": [
      "b\n"
     ]
    }
   ],
   "source": [
    "#short hand if...else\n",
    "\n",
    "a=2\n",
    "b=330\n",
    "print(\"a\") if a>b else print(\"b\")"
   ]
  },
  {
   "cell_type": "code",
   "execution_count": 78,
   "metadata": {},
   "outputs": [
    {
     "data": {
      "text/plain": [
       "-4"
      ]
     },
     "execution_count": 78,
     "metadata": {},
     "output_type": "execute_result"
    }
   ],
   "source": [
    "c=3\n",
    "~c  (-(c+1))"
   ]
  },
  {
   "cell_type": "code",
   "execution_count": null,
   "metadata": {},
   "outputs": [],
   "source": []
  }
 ],
 "metadata": {
  "kernelspec": {
   "display_name": "Python 3",
   "language": "python",
   "name": "python3"
  },
  "language_info": {
   "codemirror_mode": {
    "name": "ipython",
    "version": 3
   },
   "file_extension": ".py",
   "mimetype": "text/x-python",
   "name": "python",
   "nbconvert_exporter": "python",
   "pygments_lexer": "ipython3",
   "version": "3.7.6"
  }
 },
 "nbformat": 4,
 "nbformat_minor": 4
}
