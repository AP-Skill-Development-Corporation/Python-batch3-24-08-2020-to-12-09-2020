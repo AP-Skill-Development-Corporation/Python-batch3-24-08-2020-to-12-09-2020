{
 "cells": [
  {
   "cell_type": "markdown",
   "metadata": {},
   "source": [
    "### Day Objectives:\n",
    "\n",
    "#### File Handling:\n",
    "\n",
    "* File is collection of Records\n",
    "* Python file handling : create, open, append, Read , Write\n",
    "    * Creating a new file\n",
    "    * Write the data\n",
    "    * Read data from file\n",
    "    * Append data to a file"
   ]
  },
  {
   "cell_type": "markdown",
   "metadata": {},
   "source": [
    "### Mode of operations:\n",
    "\n",
    "* 'r' -- Read mode which is used when the file is only being read <br>\n",
    "* 'w' -- write mode which is used to edit and write new data to the file(overwrite the existing data) <br>\n",
    "* 'a' -- Append mode , which is used to add new data to end of the file,i.e new data will be automatically added to previous existing data <br>\n",
    "* 'r+' -- Special read and write mode, which is used to handle both actions when working with files"
   ]
  },
  {
   "cell_type": "markdown",
   "metadata": {},
   "source": [
    "### In-Build function:\n",
    "* OPEN  : open(path,mode)\n",
    "* CLOSE :  file_name.close()"
   ]
  },
  {
   "cell_type": "code",
   "execution_count": 5,
   "metadata": {},
   "outputs": [],
   "source": [
    "#Creating a File and writing data into a file\n",
    "\n",
    "f=open(\"myfile.txt\",'w')  #opening file in write mode\n",
    "f.write(\"hello world\")    #writing data to a file\n",
    "f.close()                 #closing a file"
   ]
  },
  {
   "cell_type": "code",
   "execution_count": 6,
   "metadata": {},
   "outputs": [],
   "source": [
    "# Write --> overwrites existing data\n",
    "\n",
    "f= open(\"myfile.txt\",'w')\n",
    "f.write(\"python programming\")\n",
    "f.close()"
   ]
  },
  {
   "cell_type": "code",
   "execution_count": 9,
   "metadata": {},
   "outputs": [
    {
     "name": "stdout",
     "output_type": "stream",
     "text": [
      "python programming\n"
     ]
    }
   ],
   "source": [
    "# Read file data\n",
    "\n",
    "f=open(\"myfile.txt\", 'r')\n",
    "data=f.read()\n",
    "print(data)\n",
    "f.close()"
   ]
  },
  {
   "cell_type": "code",
   "execution_count": 10,
   "metadata": {},
   "outputs": [],
   "source": [
    "# read(), readlines(), readline()\n",
    "\n",
    "# read() --> read all data\n",
    "# readlines() --> returns all file data lines in the list format\n",
    "# readline() -> returns a line from a file"
   ]
  },
  {
   "cell_type": "code",
   "execution_count": 12,
   "metadata": {},
   "outputs": [
    {
     "data": {
      "text/plain": [
       "['python programming\\n', 'hello world\\n', 'happy learning']"
      ]
     },
     "execution_count": 12,
     "metadata": {},
     "output_type": "execute_result"
    }
   ],
   "source": [
    "# Readlines()\n",
    "\n",
    "f=open(\"myfile.txt\",'r')\n",
    "f.readlines()"
   ]
  },
  {
   "cell_type": "code",
   "execution_count": 13,
   "metadata": {},
   "outputs": [
    {
     "data": {
      "text/plain": [
       "'python programming\\n'"
      ]
     },
     "execution_count": 13,
     "metadata": {},
     "output_type": "execute_result"
    }
   ],
   "source": [
    "# readline()\n",
    "\n",
    "f=open(\"myfile.txt\",'r')\n",
    "f.readline()"
   ]
  },
  {
   "cell_type": "code",
   "execution_count": 14,
   "metadata": {},
   "outputs": [
    {
     "data": {
      "text/plain": [
       "'python programming\\nhello world\\nhappy learning'"
      ]
     },
     "execution_count": 14,
     "metadata": {},
     "output_type": "execute_result"
    }
   ],
   "source": [
    "# read()  --> to read entire file data\n",
    "\n",
    "f=open(\"myfile.txt\",'r')\n",
    "f.read()\n"
   ]
  },
  {
   "cell_type": "code",
   "execution_count": 15,
   "metadata": {},
   "outputs": [],
   "source": [
    "# append() --> adds new data to previous data\n",
    "\n",
    "f=open(\"myfile.txt\",'a')\n",
    "f.write(\"happy teachers day\")\n",
    "f.close()"
   ]
  },
  {
   "cell_type": "code",
   "execution_count": 17,
   "metadata": {},
   "outputs": [
    {
     "name": "stdout",
     "output_type": "stream",
     "text": [
      "python programming\n",
      "\n",
      "hello world\n",
      "\n",
      "happy learninghappy teachers day\n"
     ]
    }
   ],
   "source": [
    "# Read file data line by line\n",
    "\n",
    "f=open(\"myfile.txt\",'r')\n",
    "data=f.readlines()\n",
    "for i in data:\n",
    "    print(i)"
   ]
  },
  {
   "cell_type": "code",
   "execution_count": 19,
   "metadata": {},
   "outputs": [
    {
     "name": "stdout",
     "output_type": "stream",
     "text": [
      "p\n",
      "y\n",
      "t\n",
      "h\n",
      "o\n",
      "n\n",
      " \n",
      "p\n",
      "r\n",
      "o\n",
      "g\n",
      "r\n",
      "a\n",
      "m\n",
      "m\n",
      "i\n",
      "n\n",
      "g\n",
      "\n",
      "\n"
     ]
    }
   ],
   "source": [
    "# Read file data character by character\n",
    "\n",
    "f=open(\"myfile.txt\",'r')\n",
    "data=f.readline()\n",
    "for ch in data:\n",
    "    print(ch)"
   ]
  },
  {
   "cell_type": "code",
   "execution_count": 21,
   "metadata": {},
   "outputs": [
    {
     "name": "stdout",
     "output_type": "stream",
     "text": [
      "python programming\n",
      "hello world\n",
      "happy learninghappy teachers daygood evening\n"
     ]
    }
   ],
   "source": [
    "# r+ --> read and write\n",
    "\n",
    "f=open(\"myfile.txt\",'r+')\n",
    "print(f.read())\n",
    "f.write(\"good evening\")\n",
    "f.close()"
   ]
  },
  {
   "cell_type": "code",
   "execution_count": 24,
   "metadata": {},
   "outputs": [
    {
     "name": "stdout",
     "output_type": "stream",
     "text": [
      "number of file lines:  3\n"
     ]
    }
   ],
   "source": [
    "# Write a python program to find no of lines in a file\n",
    "\n",
    "f=open(\"myfile.txt\",'r')\n",
    "data=f.readlines()\n",
    "no=len(data)\n",
    "print(\"number of file lines: \", no)\n",
    "f.close()"
   ]
  },
  {
   "cell_type": "code",
   "execution_count": 25,
   "metadata": {},
   "outputs": [
    {
     "name": "stdout",
     "output_type": "stream",
     "text": [
      "no of characters:  87\n"
     ]
    }
   ],
   "source": [
    "# write a python program to find no of characters from a file\n",
    "\n",
    "f=open(\"myfile.txt\",'r')\n",
    "data=f.read()\n",
    "l=len(data)\n",
    "print(\"no of characters: \", l)\n",
    "f.close()"
   ]
  },
  {
   "cell_type": "code",
   "execution_count": 29,
   "metadata": {},
   "outputs": [
    {
     "name": "stdout",
     "output_type": "stream",
     "text": [
      "['python', 'programming', 'hello', 'world', 'happy', 'learninghappy', 'teachers', 'daygood', 'eveninggood', 'evening']\n",
      "no of words: 10\n"
     ]
    }
   ],
   "source": [
    "# write a python program to find no of words in a file\n",
    "\n",
    "f=open(\"myfile.txt\",'r')\n",
    "data=f.read()\n",
    "#print(data)\n",
    "words=data.split()\n",
    "print(words)\n",
    "l=len(words)\n",
    "print(\"no of words:\" , l)"
   ]
  },
  {
   "cell_type": "code",
   "execution_count": 34,
   "metadata": {},
   "outputs": [],
   "source": [
    "# add 60 students\n",
    "\n",
    "f1=open(\"students.txt\",'w')\n",
    "for i in range(1,61):\n",
    "    f1.write(\"student %f \\n\" %(i))\n",
    "f1.close()"
   ]
  },
  {
   "cell_type": "markdown",
   "metadata": {},
   "source": [
    "### Methods in file handling\n",
    "\n",
    "* tell() --> returns the current location of file pointer\n",
    "* seek() --> we can set the pointer at a specified location \n",
    "\n",
    "** seek(offset,from_what)\n",
    "    * offset: no of positions to move forward\n",
    "    * from_what : defines pointer reference\n",
    "        \n",
    "        * 0: set reference pointer at the beggining of the file\n",
    "        * 1: set the reference pointer at the current file position\n",
    "        * 2: set the reference pointer at the end of the file"
   ]
  },
  {
   "cell_type": "code",
   "execution_count": 40,
   "metadata": {},
   "outputs": [
    {
     "name": "stdout",
     "output_type": "stream",
     "text": [
      "0\n",
      "python programming\n",
      "\n",
      "19\n"
     ]
    }
   ],
   "source": [
    "f=open(\"myfile.txt\",'r')\n",
    "print(f.tell())\n",
    "print(f.readline())\n",
    "print(f.tell())"
   ]
  },
  {
   "cell_type": "code",
   "execution_count": 41,
   "metadata": {},
   "outputs": [
    {
     "data": {
      "text/plain": [
       "10"
      ]
     },
     "execution_count": 41,
     "metadata": {},
     "output_type": "execute_result"
    }
   ],
   "source": [
    "f=open(\"myfile.txt\",'r')\n",
    "f.seek(10)"
   ]
  },
  {
   "cell_type": "code",
   "execution_count": 46,
   "metadata": {},
   "outputs": [
    {
     "name": "stdout",
     "output_type": "stream",
     "text": [
      "spl character count is:  17\n"
     ]
    }
   ],
   "source": [
    "#write a program to print special character count from a file\n",
    "\n",
    "\n",
    "f=open(\"myfile.txt\",'r')\n",
    "count=0\n",
    "data=f.read()\n",
    "for i in data:\n",
    "    if i.isalnum()==False and i != ' ':\n",
    "        count += 1\n",
    "print(\"spl character count is: \", count)\n",
    "    "
   ]
  },
  {
   "cell_type": "code",
   "execution_count": null,
   "metadata": {},
   "outputs": [],
   "source": []
  },
  {
   "cell_type": "code",
   "execution_count": null,
   "metadata": {},
   "outputs": [],
   "source": []
  }
 ],
 "metadata": {
  "kernelspec": {
   "display_name": "Python 3",
   "language": "python",
   "name": "python3"
  },
  "language_info": {
   "codemirror_mode": {
    "name": "ipython",
    "version": 3
   },
   "file_extension": ".py",
   "mimetype": "text/x-python",
   "name": "python",
   "nbconvert_exporter": "python",
   "pygments_lexer": "ipython3",
   "version": "3.7.6"
  }
 },
 "nbformat": 4,
 "nbformat_minor": 4
}
