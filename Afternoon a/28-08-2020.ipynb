{
 "cells": [
  {
   "cell_type": "code",
   "execution_count": 3,
   "metadata": {},
   "outputs": [
    {
     "name": "stdout",
     "output_type": "stream",
     "text": [
      "enter number10\n",
      "not a prime\n"
     ]
    }
   ],
   "source": [
    "#prime number\n",
    "n=int(input(\"enter number\"))\n",
    "c=0 #count\n",
    "for i in range(1,n+1):\n",
    "    if(n%i==0):\n",
    "        c=c+1 #c+=1\n",
    "if(c==2):\n",
    "    print(\"prime\")\n",
    "else:\n",
    "    print(\"not a prime\")"
   ]
  },
  {
   "cell_type": "code",
   "execution_count": 5,
   "metadata": {},
   "outputs": [
    {
     "name": "stdout",
     "output_type": "stream",
     "text": [
      "1\n",
      "10\n",
      "even nums are: 2 4 6 8 10 \n",
      "\n",
      "odd nums are: 1 3 5 7 9 "
     ]
    }
   ],
   "source": [
    "#i/p:starting range=1\n",
    "#ending range=10\n",
    "#o/p: even nums are:2 4 6 8 10\n",
    "#     odd nums are:1 3 5 7 9\n",
    "s=int(input())\n",
    "e=int(input())\n",
    "print(\"even nums are:\",end=\" \")\n",
    "for i in range(s,e+1):\n",
    "    if(i%2==0):\n",
    "        print(i,end=\" \")\n",
    "print(\"\\n\")\n",
    "print(\"odd nums are:\",end=\" \")\n",
    "for i in range(s,e+1):\n",
    "    if(i%2==1):\n",
    "        print(i,end=\" \")"
   ]
  },
  {
   "cell_type": "code",
   "execution_count": 6,
   "metadata": {},
   "outputs": [
    {
     "name": "stdout",
     "output_type": "stream",
     "text": [
      "10\n",
      "1 2 3 4 5 6 7 8 9 10 "
     ]
    }
   ],
   "source": [
    "n=int(input())\n",
    "for i in range(1,n+1):\n",
    "    if(i%2==0):\n",
    "        print(i,end=\" \")\n",
    "    else:\n",
    "        print(i,end=\" \")"
   ]
  },
  {
   "cell_type": "code",
   "execution_count": 11,
   "metadata": {},
   "outputs": [
    {
     "name": "stdout",
     "output_type": "stream",
     "text": [
      "6\n",
      "given num is perfect\n"
     ]
    }
   ],
   "source": [
    "#perfect num\n",
    "#i/p:6--->1,2,3->1+2+3=6\n",
    "#o/p:given num is perfect\n",
    "n=int(input())   #6\n",
    "s=0  #sum=0\n",
    "for i in range(1,n):  #(1,6)\n",
    "    if(n%i==0):  #6%1==0(t)  #6%2==0(t)  #6%3==0(t)   #6%4==0\n",
    "        s=s+i  #0=0+1=1    #1+2=3    #3+3=6\n",
    "if(s==n):\n",
    "    print(\"given num is perfect\")\n",
    "else:\n",
    "    print(\"given num is not perfect\")\n"
   ]
  },
  {
   "cell_type": "code",
   "execution_count": 14,
   "metadata": {},
   "outputs": [
    {
     "name": "stdout",
     "output_type": "stream",
     "text": [
      "enter number5\n",
      "120\n"
     ]
    }
   ],
   "source": [
    "#Factorial\n",
    "#i/p:5--->5*4*3*2*1=120\n",
    "n=int(input(\"enter number\"))\n",
    "f=1\n",
    "for i in range(1,n+1):\n",
    "    f=f*i\n",
    "print(f)\n",
    "    \n"
   ]
  },
  {
   "cell_type": "markdown",
   "metadata": {},
   "source": [
    "## While\n",
    "- it executes block or set of instructions until the false\n",
    "- we are while when we dont know the range\n",
    "- execution is speed than for loop."
   ]
  },
  {
   "cell_type": "markdown",
   "metadata": {},
   "source": [
    "#syntax:\n",
    "\n",
    "initilazation\n",
    "while condition:\n",
    "    stataments\n",
    "    incre/decre\n",
    "    "
   ]
  },
  {
   "cell_type": "code",
   "execution_count": 15,
   "metadata": {},
   "outputs": [
    {
     "name": "stdout",
     "output_type": "stream",
     "text": [
      "thankyou\n",
      "thankyou\n",
      "thankyou\n",
      "thankyou\n"
     ]
    }
   ],
   "source": [
    "n=2\n",
    "while n<=5: \n",
    "    print(\"thankyou\")\n",
    "    n=n+1 "
   ]
  },
  {
   "cell_type": "code",
   "execution_count": 16,
   "metadata": {},
   "outputs": [
    {
     "name": "stdout",
     "output_type": "stream",
     "text": [
      "1 2 3 4 5 6 7 8 9 10 "
     ]
    }
   ],
   "source": [
    "i=1\n",
    "while(i<=10):\n",
    "    print(i,end=\" \")\n",
    "    i=i+1"
   ]
  },
  {
   "cell_type": "code",
   "execution_count": 18,
   "metadata": {},
   "outputs": [
    {
     "name": "stdout",
     "output_type": "stream",
     "text": [
      "10 9 8 7 6 5 4 3 2 1 "
     ]
    }
   ],
   "source": [
    "i=10\n",
    "while(i>=1):\n",
    "    print(i,end=\" \")\n",
    "    i=i-1"
   ]
  },
  {
   "cell_type": "code",
   "execution_count": 22,
   "metadata": {},
   "outputs": [
    {
     "name": "stdout",
     "output_type": "stream",
     "text": [
      "2345\n",
      "4\n"
     ]
    }
   ],
   "source": [
    "#i/p:2345\n",
    "#o/p:4\n",
    "n=int(input())     #2345\n",
    "a=0   #count\n",
    "while(n!=0):  \n",
    "    rem=n%10     #2345=5    #234=4   #23=3  #2=2\n",
    "    a=a+1       #1       #2     #3    #4\n",
    "    n=n//10     #234        #23     #2\n",
    "print(a)\n",
    "\n"
   ]
  },
  {
   "cell_type": "markdown",
   "metadata": {},
   "source": [
    "10)2345(234    10)234(23     10)23(2       10)2(0\n",
    "   2340           230           20            0\n",
    "  ------        ------        ------       -----\n",
    "    5            4              3            2"
   ]
  },
  {
   "cell_type": "code",
   "execution_count": 24,
   "metadata": {},
   "outputs": [
    {
     "name": "stdout",
     "output_type": "stream",
     "text": [
      "python\n",
      "6\n"
     ]
    }
   ],
   "source": [
    "s=input()\n",
    "c=0\n",
    "for i in s:\n",
    "    c=c+1\n",
    "print(c)\n"
   ]
  },
  {
   "cell_type": "code",
   "execution_count": 26,
   "metadata": {},
   "outputs": [
    {
     "name": "stdout",
     "output_type": "stream",
     "text": [
      "2345\n",
      "5432\n"
     ]
    }
   ],
   "source": [
    "#Reverse number\n",
    "#i/p:2345\n",
    "#o/p:5432\n",
    "n=int(input())    \n",
    "rev=0\n",
    "while(n!=0):   #2345    #234   #23   #2  \n",
    "    rem=n%10     #5     #4      #3    #2\n",
    "    rev=rev*10+rem    #5     #54    #543    #5432\n",
    "    n=n//10       #234    #23     #2    #0\n",
    "print(rev)"
   ]
  },
  {
   "cell_type": "code",
   "execution_count": null,
   "metadata": {},
   "outputs": [],
   "source": [
    "#Task: Palindrome--->151->151\n",
    "#Armstrong-->153"
   ]
  },
  {
   "cell_type": "markdown",
   "metadata": {},
   "source": [
    "## Nested for\n",
    "- for loop inside for loop\n",
    "Syntax:\n",
    "for i in range(start,end,step):\n",
    "    for j in range(start,end,step):\n",
    "        statements\n"
   ]
  },
  {
   "cell_type": "code",
   "execution_count": null,
   "metadata": {},
   "outputs": [],
   "source": [
    "#Square Pattern\n",
    "* * * * *    11 12 13 14 15\n",
    "* * * * *    21 22 23 24 25\n",
    "* * * * *    31 32 33 34 35\n",
    "* * * * *    41 42 43 44 45\n",
    "* * * * *    51 52 53 54 55"
   ]
  },
  {
   "cell_type": "code",
   "execution_count": 28,
   "metadata": {},
   "outputs": [
    {
     "name": "stdout",
     "output_type": "stream",
     "text": [
      "* * * * * \n",
      "* * * * * \n",
      "* * * * * \n",
      "* * * * * \n",
      "* * * * * \n"
     ]
    }
   ],
   "source": [
    "for i in range(1,6):  # i=1  #i=2   #i=3  #i=4   \n",
    "    for j in range(1,6): #j=1,i=1   i=1,j=2    i=1,j=5   #i=2,j=1   \n",
    "        print(\"*\",end=\" \")\n",
    "    print()"
   ]
  },
  {
   "cell_type": "code",
   "execution_count": 37,
   "metadata": {},
   "outputs": [
    {
     "name": "stdout",
     "output_type": "stream",
     "text": [
      "* \n",
      "* * \n",
      "* * * \n",
      "* * * * \n",
      "* * * * * \n"
     ]
    }
   ],
   "source": [
    "for i in range(1,6):\n",
    "    for j in range(0,i):\n",
    "        print(\"*\",end=\" \")\n",
    "    print()\n",
    "\n"
   ]
  },
  {
   "cell_type": "code",
   "execution_count": 36,
   "metadata": {},
   "outputs": [
    {
     "name": "stdout",
     "output_type": "stream",
     "text": [
      "enter number1\n",
      "enter number1000\n",
      "2 3 5 7 11 13 17 19 23 29 31 37 41 43 47 53 59 61 67 71 73 79 83 89 97 101 103 107 109 113 127 131 137 139 149 151 157 163 167 173 179 181 191 193 197 199 211 223 227 229 233 239 241 251 257 263 269 271 277 281 283 293 307 311 313 317 331 337 347 349 353 359 367 373 379 383 389 397 401 409 419 421 431 433 439 443 449 457 461 463 467 479 487 491 499 503 509 521 523 541 547 557 563 569 571 577 587 593 599 601 607 613 617 619 631 641 643 647 653 659 661 673 677 683 691 701 709 719 727 733 739 743 751 757 761 769 773 787 797 809 811 821 823 827 829 839 853 857 859 863 877 881 883 887 907 911 919 929 937 941 947 953 967 971 977 983 991 997 "
     ]
    }
   ],
   "source": [
    "#prime range:\n",
    "s=int(input(\"enter number\"))\n",
    "e=int(input(\"enter number\"))\n",
    "for i in range(s,e+1):\n",
    "    c=0\n",
    "    for j in range(1,i+1): \n",
    "        if(i%j==0):\n",
    "            c=c+1\n",
    "    if(c==2):\n",
    "        print(i,end=\" \")\n"
   ]
  },
  {
   "cell_type": "code",
   "execution_count": null,
   "metadata": {},
   "outputs": [],
   "source": [
    "#perfect num range"
   ]
  },
  {
   "cell_type": "code",
   "execution_count": null,
   "metadata": {},
   "outputs": [],
   "source": [
    "# Nested While\n",
    "initilazation\n",
    "while condition:\n",
    "    statments\n",
    "    incre/decre\n",
    "    initilazation\n",
    "    while condition:\n",
    "        statements\n",
    "        incre/decre"
   ]
  },
  {
   "cell_type": "code",
   "execution_count": 38,
   "metadata": {},
   "outputs": [
    {
     "name": "stdout",
     "output_type": "stream",
     "text": [
      "1 2 3 4 5 6 7 8 9 10 \n",
      "2 4 6 8 10 12 14 16 18 20 \n",
      "3 6 9 12 15 18 21 24 27 30 \n",
      "4 8 12 16 20 24 28 32 36 40 \n",
      "5 10 15 20 25 30 35 40 45 50 \n",
      "6 12 18 24 30 36 42 48 54 60 \n",
      "7 14 21 28 35 42 49 56 63 70 \n",
      "8 16 24 32 40 48 56 64 72 80 \n",
      "9 18 27 36 45 54 63 72 81 90 \n",
      "10 20 30 40 50 60 70 80 90 100 \n"
     ]
    }
   ],
   "source": [
    "i=1\n",
    "while i<=10:\n",
    "    j=1\n",
    "    while j<=10:\n",
    "        print(i*j,end=\" \")\n",
    "        j+=1\n",
    "    print()\n",
    "    i+=1"
   ]
  },
  {
   "cell_type": "code",
   "execution_count": 40,
   "metadata": {},
   "outputs": [
    {
     "name": "stdout",
     "output_type": "stream",
     "text": [
      "2020\n",
      "leapyear\n"
     ]
    }
   ],
   "source": [
    "y=int(input())\n",
    "if(y%4==0 and y%100!=0)or(y%400==0):\n",
    "    print(\"leapyear\")\n",
    "else:\n",
    "    print(\"not a leapyear\")"
   ]
  },
  {
   "cell_type": "code",
   "execution_count": null,
   "metadata": {},
   "outputs": [],
   "source": []
  }
 ],
 "metadata": {
  "kernelspec": {
   "display_name": "Python 3",
   "language": "python",
   "name": "python3"
  },
  "language_info": {
   "codemirror_mode": {
    "name": "ipython",
    "version": 3
   },
   "file_extension": ".py",
   "mimetype": "text/x-python",
   "name": "python",
   "nbconvert_exporter": "python",
   "pygments_lexer": "ipython3",
   "version": "3.8.3"
  }
 },
 "nbformat": 4,
 "nbformat_minor": 4
}
