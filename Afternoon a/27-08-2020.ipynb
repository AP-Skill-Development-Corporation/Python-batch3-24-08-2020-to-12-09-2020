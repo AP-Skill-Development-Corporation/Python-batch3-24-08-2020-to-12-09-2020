{
 "cells": [
  {
   "cell_type": "code",
   "execution_count": 3,
   "metadata": {},
   "outputs": [
    {
     "name": "stdout",
     "output_type": "stream",
     "text": [
      "enter year2009\n",
      "2009 not a leapyear\n"
     ]
    }
   ],
   "source": [
    "#Leap year\n",
    "year=int(input(\"enter year\"))\n",
    "if(year%4==0 and year%100!=0)or(year%400==0):\n",
    "    print(year,\"leapyear\")\n",
    "else:\n",
    "    print(year,\"not a leapyear\")"
   ]
  },
  {
   "cell_type": "code",
   "execution_count": 8,
   "metadata": {},
   "outputs": [
    {
     "name": "stdout",
     "output_type": "stream",
     "text": [
      "enter value4\n",
      "digit\n"
     ]
    }
   ],
   "source": [
    "#input: a\n",
    "#output:alphabet\n",
    "#i/p:5\n",
    "#o/p:digit\n",
    "n=input(\"enter value\")\n",
    "if(n>='a' and n<='z')or(n>='A' and n<='Z'):\n",
    "    print(\"Alphabet\")\n",
    "elif(n>='0' and n<='9'):\n",
    "    print(\"digit\")\n",
    "else:\n",
    "    print(\"special character\")\n"
   ]
  },
  {
   "cell_type": "code",
   "execution_count": 9,
   "metadata": {},
   "outputs": [
    {
     "name": "stdout",
     "output_type": "stream",
     "text": [
      "enter chocolates10\n",
      "enter friends2\n",
      "equally distributed\n"
     ]
    }
   ],
   "source": [
    "#i/p:chocolates-->6\n",
    "    # friends-->3\n",
    "#o/p:equally distributed\n",
    "c=int(input(\"enter chocolates\"))\n",
    "f=int(input(\"enter friends\"))\n",
    "if(c%f==0): #10%2==0\n",
    "    print(\"equally distributed\")\n",
    "else:\n",
    "    print(\"not equally distributed\")"
   ]
  },
  {
   "cell_type": "code",
   "execution_count": 14,
   "metadata": {},
   "outputs": [
    {
     "name": "stdout",
     "output_type": "stream",
     "text": [
      "enter marks89\n",
      "Agrade\n"
     ]
    }
   ],
   "source": [
    "#input:80-100--->o/p:Agrade\n",
    "#      70-79-->o/p:Bgrade\n",
    "#      60-69--->o/p:cgrade\n",
    "#      45-59-->o/p:dgrade\n",
    "#      <=45---->o/p:fail\n",
    "marks=int(input(\"enter marks\"))\n",
    "if(marks>=80 and marks<=100):\n",
    "    print(\"Agrade\")\n",
    "elif(marks>=70 and marks<=79):\n",
    "    print(\"Bgrade\")\n",
    "elif(marks>=60 and marks<=69):\n",
    "    print(\"Cgrade\")\n",
    "elif(marks>=45 and marks<=59):\n",
    "    print(\"Dgrade\")\n",
    "else:\n",
    "    print(\"Fail\")\n",
    "\n",
    "\n",
    "\n",
    "\n",
    "\n"
   ]
  },
  {
   "cell_type": "code",
   "execution_count": 17,
   "metadata": {},
   "outputs": [
    {
     "name": "stdout",
     "output_type": "stream",
     "text": [
      "3\n",
      "odd\n"
     ]
    }
   ],
   "source": [
    "#i/p: n=12--->even num,>10\n",
    "#   o/p:  n**2\n",
    "#i/p:n=8--->only even--->n**3\n",
    "n=int(input())\n",
    "if(n%2==0):   \n",
    "    if(n>10):\n",
    "        print(n**2)\n",
    "    else:\n",
    "        print(n**3)\n",
    "else:\n",
    "    print(\"odd\")\n",
    "    \n"
   ]
  },
  {
   "cell_type": "markdown",
   "metadata": {},
   "source": [
    "if condition:\n",
    "    statement\n",
    "    if condition:\n",
    "        statement\n",
    "    else:\n",
    "        statement\n",
    "else:\n",
    "    statement"
   ]
  },
  {
   "cell_type": "code",
   "execution_count": 21,
   "metadata": {},
   "outputs": [
    {
     "name": "stdout",
     "output_type": "stream",
     "text": [
      "enter a number4\n",
      "enter a number5\n",
      "1.add 2.sub 3.mul 4.div 5.mod 6.power 7.floor\n",
      "enter a choice3\n",
      "mul of: 20\n"
     ]
    }
   ],
   "source": [
    "#i/p:enter num-->5\n",
    "#    enter num-->4\n",
    "     #choice--1.add2.sub3.mul4.div5.mod6.power7.floor\n",
    "  #  o/p:5\n",
    "     #   4\n",
    "       # choice:3\n",
    "       #     20\n",
    "a=int(input(\"enter a number\"))\n",
    "b=int(input(\"enter a number\"))\n",
    "print(\"1.add 2.sub 3.mul 4.div 5.mod 6.power 7.floor\")\n",
    "choice=int(input(\"enter a choice\"))\n",
    "if choice==1:\n",
    "    print(\"addition is:\",a+b)\n",
    "elif choice==2:\n",
    "    print(\"Sub of:\",a-b)\n",
    "elif choice==3:\n",
    "    print(\"mul of:\",a*b)\n",
    "elif choice==4:\n",
    "    print(\"div of:\",a/b)\n",
    "elif choice==5:\n",
    "    print(\"mod of:\",a%b)\n",
    "elif choice==6:\n",
    "    print(\"power of:\",a**b)\n",
    "elif choice==7:\n",
    "    print(\"floor of:\",a//b)\n",
    "else:\n",
    "    print(\"Enter invalid choice\")\n",
    "    \n"
   ]
  },
  {
   "cell_type": "code",
   "execution_count": 24,
   "metadata": {},
   "outputs": [
    {
     "name": "stdout",
     "output_type": "stream",
     "text": [
      "enter id:45\n",
      "invaild userid\n"
     ]
    }
   ],
   "source": [
    "#i/p:userid=>50 <=100           >=50 & <=100        i/p:40\n",
    "#pswrd:                           pswrd: 1234         o/p:invaild username\n",
    "#pswrd==5678                      0/p:wrng pswrd\n",
    "#o/p:welcome \n",
    "\n",
    "userid=int(input(\"enter id:\"))\n",
    "if(userid>=50 and userid<=100):\n",
    "    pswrd=int(input(\"enter password:\"))\n",
    "    if(pswrd==5678):\n",
    "        print(\"welcome\")\n",
    "    else:\n",
    "        print(\"wrong password\")\n",
    "else:\n",
    "    print(\"invaild userid\")\n",
    "\n",
    "\n",
    "\n"
   ]
  },
  {
   "cell_type": "markdown",
   "metadata": {},
   "source": [
    "### loops(Iterations)\n",
    "- Repeat the Sequence of instructions until a specific condition satisfies\n",
    "1.for loop\n",
    "2.while loop\n",
    "3.Nested for loop\n",
    "\n",
    "\n"
   ]
  },
  {
   "cell_type": "markdown",
   "metadata": {},
   "source": [
    "#for loop\n",
    "- for loop is used in the case where we need to execute some\n",
    "part of the code until the given condition satisfied\n",
    "Syntax:\n",
    "    for iterating_var in iterable:\n",
    "        statements\n",
    "        (or)\n",
    "    for var in range(start,end,step):\n",
    "        statements\n",
    "        "
   ]
  },
  {
   "cell_type": "code",
   "execution_count": 26,
   "metadata": {},
   "outputs": [
    {
     "name": "stdout",
     "output_type": "stream",
     "text": [
      "1\n",
      "2\n",
      "3\n",
      "4\n",
      "5\n",
      "6\n",
      "7\n",
      "8\n",
      "9\n",
      "10\n"
     ]
    }
   ],
   "source": [
    "#for(i=1;i<=10;i++)\n",
    "for i in range(1,10+1):\n",
    "    print(i)"
   ]
  },
  {
   "cell_type": "code",
   "execution_count": 1,
   "metadata": {},
   "outputs": [
    {
     "name": "stdout",
     "output_type": "stream",
     "text": [
      "1\n",
      "10\n",
      "1 2 3 4 5 6 7 8 9 10 "
     ]
    }
   ],
   "source": [
    "n=int(input())\n",
    "m=int(input())\n",
    "for i in range(n,m+1):\n",
    "    print(i,end=\" \")"
   ]
  },
  {
   "cell_type": "code",
   "execution_count": 3,
   "metadata": {},
   "outputs": [
    {
     "name": "stdout",
     "output_type": "stream",
     "text": [
      "1 4 7 10 "
     ]
    }
   ],
   "source": [
    "for i in range(1,11,3):\n",
    "    print(i,end=\" \")"
   ]
  },
  {
   "cell_type": "code",
   "execution_count": 4,
   "metadata": {},
   "outputs": [
    {
     "name": "stdout",
     "output_type": "stream",
     "text": [
      "10 9 8 7 6 5 4 3 2 1 "
     ]
    }
   ],
   "source": [
    "for i in range(10,0,-1):\n",
    "    print(i,end=\" \")\n",
    "    \n"
   ]
  },
  {
   "cell_type": "code",
   "execution_count": 5,
   "metadata": {},
   "outputs": [
    {
     "name": "stdout",
     "output_type": "stream",
     "text": [
      "10 8 6 4 2 "
     ]
    }
   ],
   "source": [
    "for i in range(10,0,-2):\n",
    "    print(i,end=\" \")"
   ]
  },
  {
   "cell_type": "code",
   "execution_count": 8,
   "metadata": {},
   "outputs": [
    {
     "name": "stdout",
     "output_type": "stream",
     "text": [
      "2 4 6 8 10 "
     ]
    }
   ],
   "source": [
    "for i in range(2,11,2):\n",
    "    print(i,end=\" \")"
   ]
  },
  {
   "cell_type": "code",
   "execution_count": 10,
   "metadata": {},
   "outputs": [
    {
     "name": "stdout",
     "output_type": "stream",
     "text": [
      "1 5 9 13 17 21 25 29 "
     ]
    }
   ],
   "source": [
    "for i in range(1,31,4):\n",
    "    print(i,end=\" \")"
   ]
  },
  {
   "cell_type": "code",
   "execution_count": 12,
   "metadata": {},
   "outputs": [
    {
     "name": "stdout",
     "output_type": "stream",
     "text": [
      "h e l l o   w o r l d "
     ]
    }
   ],
   "source": [
    "for letter in 'hello world':\n",
    "    print(letter,end=\" \")"
   ]
  },
  {
   "cell_type": "code",
   "execution_count": 15,
   "metadata": {},
   "outputs": [
    {
     "name": "stdout",
     "output_type": "stream",
     "text": [
      "1 2 3 4 "
     ]
    }
   ],
   "source": [
    "for letter in 1,2,3,4:\n",
    "    print(letter,end=\" \")\n",
    "    \n"
   ]
  },
  {
   "cell_type": "code",
   "execution_count": 16,
   "metadata": {},
   "outputs": [
    {
     "name": "stdout",
     "output_type": "stream",
     "text": [
      "10\n",
      "1 2 3 4 5 6 7 8 9 10 "
     ]
    }
   ],
   "source": [
    "#Natural num\n",
    "n=int(input())\n",
    "for i in range(1,n+1):\n",
    "    print(i,end=\" \")\n",
    "    "
   ]
  },
  {
   "cell_type": "code",
   "execution_count": 19,
   "metadata": {},
   "outputs": [
    {
     "name": "stdout",
     "output_type": "stream",
     "text": [
      "1\n",
      "10\n",
      "55\n"
     ]
    }
   ],
   "source": [
    "#natural num sum           \n",
    "n=int(input())\n",
    "m=int(input())\n",
    "s=0\n",
    "for i in range(n,m+1):\n",
    "    s=s+i #s+=i   s=1     1+2=3   3+3=6       \n",
    "print(s)"
   ]
  },
  {
   "cell_type": "code",
   "execution_count": 20,
   "metadata": {},
   "outputs": [
    {
     "name": "stdout",
     "output_type": "stream",
     "text": [
      "enter number5\n",
      "5 x 1 = 5\n",
      "5 x 2 = 10\n",
      "5 x 3 = 15\n",
      "5 x 4 = 20\n",
      "5 x 5 = 25\n",
      "5 x 6 = 30\n",
      "5 x 7 = 35\n",
      "5 x 8 = 40\n",
      "5 x 9 = 45\n",
      "5 x 10 = 50\n"
     ]
    }
   ],
   "source": [
    "#i/p:5\n",
    "#o/p:5*1=5\n",
    "#    .\n",
    "#    .\n",
    "#    5*10=50\n",
    "n=int(input(\"enter number\"))\n",
    "for i in range(1,11):\n",
    "    print(n,\"x\",i,\"=\",n*i)\n",
    "    "
   ]
  },
  {
   "cell_type": "code",
   "execution_count": 21,
   "metadata": {},
   "outputs": [
    {
     "name": "stdout",
     "output_type": "stream",
     "text": [
      "10\n",
      "1 2 5 10 "
     ]
    }
   ],
   "source": [
    "#factors\n",
    "#i/p:10-->1,2,5,10\n",
    "n=int(input())\n",
    "for i in range(1,n+1):\n",
    "    if(n%i==0):        #10%1==0    10%2==0    10%3!=0   10%4!=0   10%5==0\n",
    "        print(i,end=\" \")\n"
   ]
  },
  {
   "cell_type": "code",
   "execution_count": null,
   "metadata": {},
   "outputs": [],
   "source": [
    "#Prime number"
   ]
  }
 ],
 "metadata": {
  "kernelspec": {
   "display_name": "Python 3",
   "language": "python",
   "name": "python3"
  },
  "language_info": {
   "codemirror_mode": {
    "name": "ipython",
    "version": 3
   },
   "file_extension": ".py",
   "mimetype": "text/x-python",
   "name": "python",
   "nbconvert_exporter": "python",
   "pygments_lexer": "ipython3",
   "version": "3.8.3"
  }
 },
 "nbformat": 4,
 "nbformat_minor": 4
}
